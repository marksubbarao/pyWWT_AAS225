{
 "cells": [
  {
   "cell_type": "markdown",
   "metadata": {},
   "source": [
    "# WWT in Jupyter"
   ]
  },
  {
   "cell_type": "code",
   "execution_count": 1,
   "metadata": {},
   "outputs": [],
   "source": [
    "from pywwt.jupyter import WWTJupyterWidget\n",
    "wwt = WWTJupyterWidget()"
   ]
  },
  {
   "cell_type": "code",
   "execution_count": 2,
   "metadata": {},
   "outputs": [
    {
     "data": {
      "application/vnd.jupyter.widget-view+json": {
       "model_id": "09f59d14ccb846c7bbdfd4d1cfc97499",
       "version_major": 2,
       "version_minor": 0
      },
      "text/plain": [
       "WWTJupyterWidget(layout=Layout(align_self='stretch', height='400px'))"
      ]
     },
     "metadata": {},
     "output_type": "display_data"
    }
   ],
   "source": [
    "wwt"
   ]
  },
  {
   "cell_type": "code",
   "execution_count": 3,
   "metadata": {},
   "outputs": [
    {
     "data": {
      "application/vnd.jupyter.widget-view+json": {
       "model_id": "d9a8d7c784164458815332dd7e9b13c0",
       "version_major": 2,
       "version_minor": 0
      },
      "text/plain": [
       "HBox(children=(Dropdown(index=8, options=('2MASS: Catalog (Synthetic, Near Infrared)', '2Mass: Imagery (Infrar…"
      ]
     },
     "metadata": {},
     "output_type": "display_data"
    }
   ],
   "source": [
    "wwt.layer_controls"
   ]
  },
  {
   "cell_type": "code",
   "execution_count": 4,
   "metadata": {},
   "outputs": [],
   "source": [
    "wwt.constellation_figures=True"
   ]
  },
  {
   "cell_type": "code",
   "execution_count": null,
   "metadata": {},
   "outputs": [],
   "source": [
    "wwt.available_layers"
   ]
  },
  {
   "cell_type": "code",
   "execution_count": null,
   "metadata": {},
   "outputs": [],
   "source": [
    "wwt.foreground='SDSS: Sloan Digital Sky Survey (Optical)'\n",
    "wwt.background='2Mass: Imagery (Infrared)'"
   ]
  },
  {
   "cell_type": "markdown",
   "metadata": {},
   "source": [
    "## Plot Globular Clusters\n",
    "###### Set up Astropy and Astroquery to connect to VizieR Catalog Service"
   ]
  },
  {
   "cell_type": "code",
   "execution_count": 5,
   "metadata": {},
   "outputs": [],
   "source": [
    "#Set up astropy and astroquery \n",
    "from astropy.table import Table,Column\n",
    "from astropy.coordinates import SkyCoord, Distance\n",
    "from astropy.io.votable import from_table, writeto\n",
    "from astropy import units as u\n",
    "from astroquery.vizier import Vizier\n",
    "v = Vizier()\n",
    "v.ROW_LIMIT = -1"
   ]
  },
  {
   "cell_type": "markdown",
   "metadata": {},
   "source": [
    "Properties of Galactic Globular Clusters<a hhref=\"http://cdsads.u-strasbg.fr/cgi-bin/nph-bib_query?2014MNRAS.441.1105F&db_key=AST&nosetcookie=1\">((Francis+, 2014))</a><br>\n",
    "VizieR Catalog: <a href=\"http://vizier.u-strasbg.fr/viz-bin/VizieR-3?-source=VII/271/catalog&-out.max=50&-out.form=HTML%20Table&-out.add=_r&-out.add=_RAJ,_DEJ&-sort=_r&-oc.form=sexa\">VII/271/catalog</a><br>\n",
    "157 Objects"
   ]
  },
  {
   "cell_type": "code",
   "execution_count": 6,
   "metadata": {},
   "outputs": [],
   "source": [
    "Cats = v.get_catalogs('VII/271/catalog')\n",
    "GCCat=Cats[0]\n",
    "GCCat.rename_column('__Fe_H_', 'Fe/H')\n",
    "GCCat.rename_column('_RAJ2000', 'ra')\n",
    "GCCat.rename_column('_DEJ2000', 'dec')\n",
    "#Create Column with dist in pc, not kpc (for WWT)\n",
    "distCol=Column(1000*GCCat['Dist'].filled(0),name='distance',meta={'ucd': 'pos.distance'}, unit='pc')\n",
    "GCCat.add_column(distCol)\n",
    "del GCCat['Dist']"
   ]
  },
  {
   "cell_type": "code",
   "execution_count": 7,
   "metadata": {},
   "outputs": [
    {
     "data": {
      "text/html": [
       "<i>Table masked=True length=157</i>\n",
       "<table id=\"table2335023791912\" class=\"table-striped table-bordered table-condensed\">\n",
       "<thead><tr><th>ra</th><th>dec</th><th>ID</th><th>Name</th><th>RAJ2000</th><th>DEJ2000</th><th>mu0</th><th>r_Dist</th><th>e_Dist</th><th>o_Dist</th><th>DistH</th><th>X</th><th>Y</th><th>Z</th><th>Rgc</th><th>E_B-V_</th><th>Fe/H</th><th>e__Fe_H_</th><th>r__Fe_H_</th><th>RV</th><th>r_RV</th><th>e_RV</th><th>o_RV</th><th>n_RV</th><th>SimbadName</th><th>distance</th></tr></thead>\n",
       "<thead><tr><th>deg</th><th>deg</th><th></th><th></th><th>deg</th><th>deg</th><th>mag</th><th></th><th>kpc</th><th></th><th>kpc</th><th>kpc</th><th>kpc</th><th>kpc</th><th>kpc</th><th>mag</th><th>[Sun]</th><th>[Sun]</th><th></th><th>km / s</th><th></th><th>km / s</th><th></th><th></th><th></th><th>pc</th></tr></thead>\n",
       "<thead><tr><th>float64</th><th>float64</th><th>bytes15</th><th>bytes25</th><th>float64</th><th>float64</th><th>float32</th><th>bytes1</th><th>float32</th><th>int16</th><th>float32</th><th>float32</th><th>float32</th><th>float32</th><th>float32</th><th>float32</th><th>float32</th><th>float32</th><th>bytes4</th><th>float32</th><th>bytes1</th><th>float32</th><th>int16</th><th>bytes2</th><th>bytes26</th><th>float32</th></tr></thead>\n",
       "<tr><td>6.0234</td><td>-72.0813</td><td>NGC 104</td><td>47 Tucanae</td><td>6.0234</td><td>-72.0813</td><td>13.31</td><td>*</td><td>0.04</td><td>13</td><td>4.5</td><td>1.9</td><td>-2.6</td><td>-3.2</td><td>6.9</td><td>0.04</td><td>-0.69</td><td>0.06</td><td>S12</td><td>-17.0</td><td>*</td><td>0.2</td><td>9</td><td>ti</td><td>NGC 104</td><td>4580.00</td></tr>\n",
       "<tr><td>13.1885</td><td>-26.5826</td><td>NGC 288</td><td></td><td>13.1885</td><td>-26.5826</td><td>14.86</td><td>*</td><td>0.19</td><td>4</td><td>8.9</td><td>-0.1</td><td>0.0</td><td>-9.4</td><td>12.0</td><td>0.03</td><td>-1.35</td><td>0.04</td><td>S12</td><td>-45.2</td><td>*</td><td>0.4</td><td>7</td><td>ti</td><td>NGC 288</td><td>9360.00</td></tr>\n",
       "<tr><td>15.8094</td><td>-70.8488</td><td>NGC 362</td><td>Melotte 4</td><td>15.8094</td><td>-70.8488</td><td>14.73</td><td>*</td><td>0.13</td><td>6</td><td>8.6</td><td>3.2</td><td>-5.2</td><td>-6.4</td><td>9.2</td><td>0.05</td><td>-1.31</td><td>0.05</td><td>S12</td><td>222.9</td><td>*</td><td>1.5</td><td>4</td><td>ti</td><td>NGC 362</td><td>8840.00</td></tr>\n",
       "<tr><td>30.7375</td><td>-3.2528</td><td>Whiting 1</td><td>Whiting 1</td><td>30.7375</td><td>-3.2528</td><td>17.34</td><td>*</td><td>1.90</td><td>1</td><td>30.1</td><td>-13.7</td><td>4.5</td><td>-25.6</td><td>33.5</td><td>0.03</td><td>-0.70</td><td>--</td><td>H10</td><td>-130.6</td><td>*</td><td>1.8</td><td>1</td><td>t</td><td>Name Whiting 1</td><td>29400.00</td></tr>\n",
       "<tr><td>48.0675</td><td>-55.2162</td><td>NGC 1261</td><td></td><td>48.0675</td><td>-55.2162</td><td>16.09</td><td>*</td><td>0.37</td><td>4</td><td>16.3</td><td>0.1</td><td>-10.2</td><td>-13.1</td><td>18.1</td><td>0.01</td><td>-1.28</td><td>0.06</td><td>S12</td><td>63.7</td><td>*</td><td>12.1</td><td>2</td><td>ti</td><td>NGC 1261</td><td>16540.00</td></tr>\n",
       "<tr><td>53.3335</td><td>79.5811</td><td>Pal 1</td><td>Palomar 1</td><td>53.3335</td><td>79.5811</td><td>15.56</td><td>*</td><td>0.59</td><td>2</td><td>11.1</td><td>-7.9</td><td>9.4</td><td>4.2</td><td>18.4</td><td>0.15</td><td>-0.65</td><td>0.09</td><td>H10</td><td>-82.8</td><td>*</td><td>3.3</td><td>1</td><td>t</td><td>Pal 1</td><td>12970.00</td></tr>\n",
       "<tr><td>58.7600</td><td>-49.6067</td><td>AM 1</td><td>E 1</td><td>58.7600</td><td>-49.6067</td><td>20.45</td><td>*</td><td>12.32</td><td>1</td><td>123.3</td><td>-16.5</td><td>-80.0</td><td>-92.2</td><td>124.4</td><td>0.00</td><td>-1.70</td><td>0.09</td><td>H10</td><td>116.0</td><td>*</td><td>20.0</td><td>1</td><td>t</td><td>AM 1</td><td>123200.00</td></tr>\n",
       "<tr><td>66.1863</td><td>-21.1900</td><td>Eridanus</td><td>Eridanus star cluster</td><td>66.1863</td><td>-21.1900</td><td>19.77</td><td>*</td><td>3.72</td><td>2</td><td>90.1</td><td>-53.0</td><td>-41.6</td><td>-59.3</td><td>94.3</td><td>0.02</td><td>-1.47</td><td>0.12</td><td>S12</td><td>-21.0</td><td>*</td><td>4.0</td><td>1</td><td>t</td><td>Name Eridanus star cluster</td><td>89760.00</td></tr>\n",
       "<tr><td>71.5246</td><td>31.3815</td><td>Pal 2</td><td>Palomar 2</td><td>71.5246</td><td>31.3815</td><td>17.21</td><td>*</td><td>1.46</td><td>1</td><td>27.2</td><td>-27.0</td><td>4.5</td><td>-4.4</td><td>34.9</td><td>1.24</td><td>-1.42</td><td>0.09</td><td>H10</td><td>--</td><td>*</td><td>57.0</td><td>0</td><td></td><td>Pal 2</td><td>27670.00</td></tr>\n",
       "<tr><td>...</td><td>...</td><td>...</td><td>...</td><td>...</td><td>...</td><td>...</td><td>...</td><td>...</td><td>...</td><td>...</td><td>...</td><td>...</td><td>...</td><td>...</td><td>...</td><td>...</td><td>...</td><td>...</td><td>...</td><td>...</td><td>...</td><td>...</td><td>...</td><td>...</td><td>...</td></tr>\n",
       "<tr><td>301.5202</td><td>-21.9223</td><td>NGC 6864</td><td>M75</td><td>301.5202</td><td>-21.9223</td><td>16.51</td><td>*</td><td>0.55</td><td>3</td><td>20.9</td><td>16.9</td><td>6.3</td><td>-8.7</td><td>14.4</td><td>0.16</td><td>-1.29</td><td>0.14</td><td>H10</td><td>-175.0</td><td>*</td><td>7.0</td><td>1</td><td>i</td><td>NGC 6864</td><td>20050.00</td></tr>\n",
       "<tr><td>308.5474</td><td>7.4045</td><td>NGC 6934</td><td></td><td>308.5474</td><td>7.4045</td><td>16.04</td><td>*</td><td>0.25</td><td>6</td><td>15.6</td><td>9.4</td><td>12.1</td><td>-5.2</td><td>13.3</td><td>0.10</td><td>-1.47</td><td>0.09</td><td>H10</td><td>-387.0</td><td>*</td><td>14.0</td><td>1</td><td>i</td><td>NGC 6934</td><td>16170.00</td></tr>\n",
       "<tr><td>313.3654</td><td>-12.5373</td><td>NGC 6981</td><td>M 72</td><td>313.3654</td><td>-12.5373</td><td>16.12</td><td>*</td><td>0.27</td><td>6</td><td>17.0</td><td>11.5</td><td>8.1</td><td>-9.1</td><td>12.9</td><td>0.05</td><td>-1.43</td><td>0.06</td><td>S12</td><td>-359.6</td><td>*</td><td>9.6</td><td>1</td><td>t</td><td>NGC 6981</td><td>16780.00</td></tr>\n",
       "<tr><td>315.3728</td><td>16.1879</td><td>NGC 7006</td><td></td><td>315.3728</td><td>16.1879</td><td>18.01</td><td>*</td><td>0.92</td><td>4</td><td>41.2</td><td>16.7</td><td>33.9</td><td>-13.3</td><td>37.6</td><td>0.05</td><td>-1.65</td><td>0.13</td><td>S12</td><td>-383.4</td><td>*</td><td>0.4</td><td>2</td><td>t</td><td>NGC 7006</td><td>40050.00</td></tr>\n",
       "<tr><td>322.4932</td><td>12.1669</td><td>NGC 7078</td><td>M 15</td><td>322.4932</td><td>12.1669</td><td>15.09</td><td>*</td><td>0.08</td><td>12</td><td>10.4</td><td>3.9</td><td>8.4</td><td>-4.8</td><td>10.3</td><td>0.10</td><td>-2.32</td><td>0.04</td><td>S12</td><td>-107.0</td><td>*</td><td>0.2</td><td>7</td><td>t</td><td>NGC 7078</td><td>10430.00</td></tr>\n",
       "<tr><td>323.3625</td><td>-0.8235</td><td>NGC 7089</td><td>M 2</td><td>323.3625</td><td>-0.8235</td><td>15.28</td><td>*</td><td>0.19</td><td>6</td><td>11.5</td><td>5.5</td><td>7.4</td><td>-6.7</td><td>10.1</td><td>0.06</td><td>-1.59</td><td>0.05</td><td>S12</td><td>-3.3</td><td>*</td><td>5.4</td><td>2</td><td>ti</td><td>NGC 7089</td><td>11390.00</td></tr>\n",
       "<tr><td>325.0923</td><td>-23.1799</td><td>NGC 7099</td><td>M 30</td><td>325.0923</td><td>-23.1799</td><td>14.69</td><td>*</td><td>0.11</td><td>7</td><td>8.1</td><td>5.3</td><td>2.7</td><td>-6.3</td><td>7.2</td><td>0.03</td><td>-2.23</td><td>0.04</td><td>S12</td><td>-178.4</td><td>*</td><td>1.0</td><td>4</td><td>t</td><td>NGC 7099</td><td>8650.00</td></tr>\n",
       "<tr><td>326.6618</td><td>-21.2526</td><td>Pal 12</td><td>Palomar 12</td><td>326.6618</td><td>-21.2526</td><td>16.36</td><td>*</td><td>0.49</td><td>2</td><td>19.0</td><td>10.8</td><td>6.4</td><td>-13.8</td><td>15.6</td><td>0.02</td><td>-0.68</td><td>0.11</td><td>S12</td><td>13.7</td><td>*</td><td>15.6</td><td>1</td><td>t</td><td>Pal 12</td><td>18690.00</td></tr>\n",
       "<tr><td>346.6853</td><td>12.7720</td><td>Pal 13</td><td>Palomar 13</td><td>346.6853</td><td>12.7720</td><td>16.89</td><td>*</td><td>2.38</td><td>1</td><td>26.0</td><td>0.9</td><td>17.5</td><td>-16.2</td><td>24.7</td><td>0.05</td><td>-1.88</td><td>0.09</td><td>H10</td><td>25.5</td><td>*</td><td>0.2</td><td>4</td><td>t</td><td>Pal 13</td><td>23880.00</td></tr>\n",
       "<tr><td>347.1112</td><td>-15.6115</td><td>NGC 7492</td><td></td><td>347.1112</td><td>-15.6115</td><td>17.14</td><td>*</td><td>1.15</td><td>2</td><td>26.3</td><td>7.1</td><td>9.6</td><td>-24.0</td><td>25.8</td><td>0.00</td><td>-1.72</td><td>0.07</td><td>S12</td><td>-214.2</td><td>*</td><td>11.5</td><td>1</td><td>t</td><td>NGC 7492</td><td>26770.00</td></tr>\n",
       "</table>"
      ],
      "text/plain": [
       "<Table masked=True length=157>\n",
       "   ra      dec        ID    ...  n_RV          SimbadName          distance\n",
       "  deg      deg              ...                                       pc   \n",
       "float64  float64   bytes15  ... bytes2          bytes26            float32 \n",
       "-------- -------- --------- ... ------ -------------------------- ---------\n",
       "  6.0234 -72.0813   NGC 104 ...     ti                    NGC 104   4580.00\n",
       " 13.1885 -26.5826   NGC 288 ...     ti                    NGC 288   9360.00\n",
       " 15.8094 -70.8488   NGC 362 ...     ti                    NGC 362   8840.00\n",
       " 30.7375  -3.2528 Whiting 1 ...      t             Name Whiting 1  29400.00\n",
       " 48.0675 -55.2162  NGC 1261 ...     ti                   NGC 1261  16540.00\n",
       " 53.3335  79.5811     Pal 1 ...      t                      Pal 1  12970.00\n",
       " 58.7600 -49.6067      AM 1 ...      t                       AM 1 123200.00\n",
       " 66.1863 -21.1900  Eridanus ...      t Name Eridanus star cluster  89760.00\n",
       " 71.5246  31.3815     Pal 2 ...                             Pal 2  27670.00\n",
       "     ...      ...       ... ...    ...                        ...       ...\n",
       "301.5202 -21.9223  NGC 6864 ...      i                   NGC 6864  20050.00\n",
       "308.5474   7.4045  NGC 6934 ...      i                   NGC 6934  16170.00\n",
       "313.3654 -12.5373  NGC 6981 ...      t                   NGC 6981  16780.00\n",
       "315.3728  16.1879  NGC 7006 ...      t                   NGC 7006  40050.00\n",
       "322.4932  12.1669  NGC 7078 ...      t                   NGC 7078  10430.00\n",
       "323.3625  -0.8235  NGC 7089 ...     ti                   NGC 7089  11390.00\n",
       "325.0923 -23.1799  NGC 7099 ...      t                   NGC 7099   8650.00\n",
       "326.6618 -21.2526    Pal 12 ...      t                     Pal 12  18690.00\n",
       "346.6853  12.7720    Pal 13 ...      t                     Pal 13  23880.00\n",
       "347.1112 -15.6115  NGC 7492 ...      t                   NGC 7492  26770.00"
      ]
     },
     "execution_count": 7,
     "metadata": {},
     "output_type": "execute_result"
    }
   ],
   "source": [
    "GCCat"
   ]
  },
  {
   "cell_type": "code",
   "execution_count": 8,
   "metadata": {},
   "outputs": [],
   "source": [
    "layer = wwt.layers.add_table_layer(GCCat, lon_unit = u.deg)\n",
    "layer.size_scale=100\n",
    "layer.cmap_att = 'Fe/H'\n",
    "layer.cmap='viridis'"
   ]
  },
  {
   "cell_type": "code",
   "execution_count": 9,
   "metadata": {},
   "outputs": [],
   "source": [
    "wwt.center_on_coordinates(SkyCoord.from_name('M13'),0.2*u.deg,False)"
   ]
  },
  {
   "cell_type": "code",
   "execution_count": null,
   "metadata": {},
   "outputs": [],
   "source": [
    "layer.alt_att='distance'\n",
    "layer.far_side_visible=True"
   ]
  },
  {
   "cell_type": "code",
   "execution_count": null,
   "metadata": {},
   "outputs": [],
   "source": [
    "wwt.set_view('milky way')"
   ]
  },
  {
   "cell_type": "code",
   "execution_count": null,
   "metadata": {},
   "outputs": [],
   "source": []
  }
 ],
 "metadata": {
  "anaconda-cloud": {},
  "kernelspec": {
   "display_name": "Python 3",
   "language": "python",
   "name": "python3"
  },
  "language_info": {
   "codemirror_mode": {
    "name": "ipython",
    "version": 3
   },
   "file_extension": ".py",
   "mimetype": "text/x-python",
   "name": "python",
   "nbconvert_exporter": "python",
   "pygments_lexer": "ipython3",
   "version": "3.6.8"
  }
 },
 "nbformat": 4,
 "nbformat_minor": 1
}
