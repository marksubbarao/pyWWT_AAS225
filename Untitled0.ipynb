{
 "metadata": {
  "name": "",
  "signature": "sha256:6dfa711885d15c7aceb1dd72cdf85972562f8d664ca0b46ad4f1609deaaa2a01"
 },
 "nbformat": 3,
 "nbformat_minor": 0,
 "worksheets": []
}