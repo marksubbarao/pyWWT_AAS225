{
 "cells": [
  {
   "cell_type": "markdown",
   "metadata": {},
   "source": [
    "# WWT in pyWWT"
   ]
  },
  {
   "cell_type": "code",
   "execution_count": null,
   "metadata": {},
   "outputs": [],
   "source": [
    "from pywwt.jupyter import WWTJupyterWidget\n",
    "wwt = WWTJupyterWidget()"
   ]
  },
  {
   "cell_type": "code",
   "execution_count": null,
   "metadata": {},
   "outputs": [],
   "source": [
    "wwt"
   ]
  },
  {
   "cell_type": "code",
   "execution_count": null,
   "metadata": {},
   "outputs": [],
   "source": [
    "wwt.layer_controls"
   ]
  },
  {
   "cell_type": "code",
   "execution_count": null,
   "metadata": {},
   "outputs": [],
   "source": [
    "wwt.constellation_figures=True\n"
   ]
  },
  {
   "cell_type": "code",
   "execution_count": null,
   "metadata": {},
   "outputs": [],
   "source": [
    "wwt.available_layers"
   ]
  },
  {
   "cell_type": "code",
   "execution_count": null,
   "metadata": {},
   "outputs": [],
   "source": [
    "wwt.foreground='SDSS: Sloan Digital Sky Survey (Optical)'\n",
    "wwt.background='2Mass: Imagery (Infrared)'"
   ]
  },
  {
   "cell_type": "markdown",
   "metadata": {},
   "source": [
    "## Plot Globular Clusters\n",
    "###### Set up Astropy and Astroquery to connect to VizieR Catalog Service"
   ]
  },
  {
   "cell_type": "code",
   "execution_count": null,
   "metadata": {},
   "outputs": [],
   "source": [
    "#Set up astropy and astroquery \n",
    "from astropy.table import Table,Column\n",
    "from astropy.coordinates import SkyCoord, Distance\n",
    "from astropy.io.votable import from_table, writeto\n",
    "from astropy import units as u\n",
    "from astroquery.vizier import Vizier\n",
    "v = Vizier()\n",
    "v.ROW_LIMIT = -1"
   ]
  },
  {
   "cell_type": "markdown",
   "metadata": {},
   "source": [
    "Properties of Galactic Globular Clusters<a hhref=\"http://cdsads.u-strasbg.fr/cgi-bin/nph-bib_query?2014MNRAS.441.1105F&db_key=AST&nosetcookie=1\">((Francis+, 2014))</a><br>\n",
    "VizieR Catalog: <a href=\"http://vizier.u-strasbg.fr/viz-bin/VizieR-3?-source=VII/271/catalog&-out.max=50&-out.form=HTML%20Table&-out.add=_r&-out.add=_RAJ,_DEJ&-sort=_r&-oc.form=sexa\">VII/271/catalog</a><br>\n",
    "157 Objects"
   ]
  },
  {
   "cell_type": "code",
   "execution_count": null,
   "metadata": {},
   "outputs": [],
   "source": [
    "Cats = v.get_catalogs('VII/271/catalog')\n",
    "GCCat=Cats[0]\n",
    "GCCat.rename_column('__Fe_H_', 'Fe/H')\n",
    "GCCat.rename_column('_RAJ2000', 'ra')\n",
    "GCCat.rename_column('_DEJ2000', 'dec')\n",
    "#Create Column with dist in pc, not kpc (for WWT)\n",
    "distCol=Column(1000*GCCat['Dist'].filled(0),name='distance',meta={'ucd': 'pos.distance'}, unit='pc')\n",
    "GCCat.add_column(distCol)\n",
    "del GCCat['Dist']"
   ]
  },
  {
   "cell_type": "code",
   "execution_count": null,
   "metadata": {},
   "outputs": [],
   "source": [
    "GCCat"
   ]
  },
  {
   "cell_type": "code",
   "execution_count": null,
   "metadata": {},
   "outputs": [],
   "source": [
    "layer = wwt.layers.add_table_layer(GCCat, lon_unit = u.deg)\n",
    "layer.size_scale=100\n",
    "layer.cmap_att = 'Fe/H'\n",
    "layer.cmap='viridis'"
   ]
  },
  {
   "cell_type": "code",
   "execution_count": null,
   "metadata": {},
   "outputs": [],
   "source": [
    "wwt.center_on_coordinates(SkyCoord.from_name('M13'),0.2*u.deg,False)"
   ]
  },
  {
   "cell_type": "code",
   "execution_count": null,
   "metadata": {},
   "outputs": [],
   "source": [
    "layer.alt_att='distance'\n",
    "layer.far_side_visible=True"
   ]
  },
  {
   "cell_type": "code",
   "execution_count": null,
   "metadata": {},
   "outputs": [],
   "source": [
    "wwt.set_view('milky way')"
   ]
  },
  {
   "cell_type": "code",
   "execution_count": null,
   "metadata": {},
   "outputs": [],
   "source": []
  }
 ],
 "metadata": {
  "anaconda-cloud": {},
  "kernelspec": {
   "display_name": "Python 3",
   "language": "python",
   "name": "python3"
  },
  "language_info": {
   "codemirror_mode": {
    "name": "ipython",
    "version": 3
   },
   "file_extension": ".py",
   "mimetype": "text/x-python",
   "name": "python",
   "nbconvert_exporter": "python",
   "pygments_lexer": "ipython3",
   "version": "3.6.8"
  }
 },
 "nbformat": 4,
 "nbformat_minor": 1
}
